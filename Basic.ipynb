{
  "nbformat": 4,
  "nbformat_minor": 0,
  "metadata": {
    "colab": {
      "provenance": []
    },
    "kernelspec": {
      "name": "python3",
      "display_name": "Python 3"
    },
    "language_info": {
      "name": "python"
    }
  },
  "cells": [
    {
      "cell_type": "markdown",
      "source": [
        "1.  What is Python, and why is it popular?\n",
        "   - Python is a high level programing language,\n",
        "  - it is easy to learn and understand due to they word similar to english.\n",
        "  -  it is popular due to so many libraries are present."
      ],
      "metadata": {
        "id": "Qc4gt8CsXPet"
      }
    },
    {
      "cell_type": "markdown",
      "source": [
        "2.  What is an interpreter in Python\n",
        "  -  interpreter is nothing it used to execute the python program line by line."
      ],
      "metadata": {
        "id": "l93JVyJaaHWy"
      }
    },
    {
      "cell_type": "markdown",
      "source": [
        "3. What are pre-defined keywords in Python\n",
        " - Predefine keyword means the keyword which is already define and these are  reserve key word  that is not use for variable name ,function name etc.\n"
      ],
      "metadata": {
        "id": "5Xvm_EO-bJ0N"
      }
    },
    {
      "cell_type": "markdown",
      "source": [
        "4.  Can keywords be used as variable names?\n",
        "  - No,  keywords can't  used as variable names because it is python reseverd keyword , if we use it it throw an error."
      ],
      "metadata": {
        "id": "rmDhbeSD23EY"
      }
    },
    {
      "cell_type": "markdown",
      "source": [
        "5.  What is mutability in Python?\n",
        " - Mutability means we can perform some change in object after the object creation.\n",
        " - example :- list , dictionary."
      ],
      "metadata": {
        "id": "dHZtKbyq2u2A"
      }
    },
    {
      "cell_type": "markdown",
      "source": [
        "6. Why are lists mutable, but tuples are immutable?\n",
        "  - we can understand it by example in company when we create the Employe_id\n",
        "  that is a unique and can't change it further and also in college student\n",
        "  get their registration number is also unique and both Employe_id & registration number need not reqire to change it.\n",
        "  - But in list, if we create a grocery list  it  can be change  many\n",
        "  time so  list is mutable by this way\n",
        "  we can understand.\n",
        "  "
      ],
      "metadata": {
        "id": "A0rJ03CJc37b"
      }
    },
    {
      "cell_type": "markdown",
      "source": [
        "7.  What is the difference between “==” and “is” operators in Python?\n",
        "  - \"==\" this is used to compare the value is  same  or not\n",
        "      - example:- a=10\n",
        "      if a==10:\n",
        "       print(a)\n",
        "       else:\n",
        "        print(\"not equal\")\n",
        "\n",
        "   - is operator is used to check the identity of two object. It checks whether two variables refer to the exact same object in memory.      \n"
      ],
      "metadata": {
        "id": "SAUfD3XF8BiY"
      }
    },
    {
      "cell_type": "markdown",
      "source": [
        "8. What are logical operators in Python\n",
        " - logical operator are used to combine the conditional statement . It return\n",
        " the boolean value ( True & False )\n",
        "  - it is of three type\n",
        "     - [logical and]\n",
        "         - True and True   = True\n",
        "         - True and False  = False\n",
        "         - False and True  = False\n",
        "         - False and False = False\n",
        "     - [logical or]\n",
        "         - True or True   = True\n",
        "         - True or False  = True\n",
        "         - False or True  = True\n",
        "         - False or False = False\n",
        "    - [logical NOT ]\n",
        "         - it convert the True value into False\n",
        "         - and the false value is True"
      ],
      "metadata": {
        "id": "mjTxMGReBq83"
      }
    },
    {
      "cell_type": "markdown",
      "source": [
        "9.  What is type casting in Python?\n",
        "  - It is a way through which we can convert the value of one data type to another.\n",
        "  - some python type casting function/method are int(), float(), string(), list().\n",
        "  \n"
      ],
      "metadata": {
        "id": "q26hT5AzssQe"
      }
    },
    {
      "cell_type": "markdown",
      "source": [
        "10.  What is the difference between implicit and explicit type casting?\n",
        "  - implicit type casting\n",
        "       - implicit type casting are those which python automatically convert\n",
        "       from one data to another without any instruction\n",
        "       - example:- if we add (int=10) with (float=5.5) then o/p\n",
        "       is float value i.e (float=15.5).\n",
        "  -explicit type casting\n",
        "      - in explicit type casting we give instruction to change the data type\n",
        "      - exaple:- if we take input from the user than it always take an string\n",
        "      value we change it by giving int() function.\n",
        "      - example:- (a=10.4)\n",
        "                  int(a)\n",
        "                  o/p=10  "
      ],
      "metadata": {
        "id": "QhDT3Uzlt2Fa"
      }
    },
    {
      "cell_type": "markdown",
      "source": [
        "11. What is the purpose of conditional statements in Python?\n",
        "    - It helps in the control flow of the execution of program.\n",
        "    - here the execution of program on the basic of boolean value like if True\n",
        "    then excute if block if False then execute else block."
      ],
      "metadata": {
        "id": "RIBz2JoNx3DZ"
      }
    },
    {
      "cell_type": "markdown",
      "source": [
        "12.  How does the elif statement work?\n",
        "    - Elif work on the conditional statement if the first condition is true then  (if block) is execute, when the if block is not true than (elif block) is execute  if elif block is also not true than (else block) is execut."
      ],
      "metadata": {
        "id": "9XRMzlQLzOrn"
      }
    },
    {
      "cell_type": "markdown",
      "source": [
        "13.  What is the difference between for and while loops?\n",
        "      - For Loop\n",
        "          - for loop is used to iterate over a sequence of item.\n",
        "          \n",
        "      - While Loop\n",
        "          - while loop is execute the given code until the condition become false.\n"
      ],
      "metadata": {
        "id": "D5uwG3y30Q4f"
      }
    },
    {
      "cell_type": "markdown",
      "source": [
        "14.  Describe a scenario where a while loop is more suitable than a for loop?\n",
        "      - while loop\n",
        "         - in while loop we don't required that how many time the loop execute , it run until we reach at our destination\n",
        "         - it is better for guessing the value , take an example of mobile password you enter the password until the password is match.\n",
        "      - for loop\n",
        "          - here we required that how many time to do iteration\n",
        "          - for example:- if we want to print (first 10 natural number) then we have idea that how many time the loop is run."
      ],
      "metadata": {
        "id": "mds_1hkM46Qu"
      }
    },
    {
      "cell_type": "code",
      "source": [
        "# 1. Write a Python program to print \"Hello, World!\"\n",
        "'''\n",
        " print(\"Hello, World!\")\n",
        "'''"
      ],
      "metadata": {
        "id": "zi7fNDc497Gx"
      },
      "execution_count": null,
      "outputs": []
    },
    {
      "cell_type": "code",
      "source": [
        "# 2. Write a Python program that displays your name and age\n",
        "'''\n",
        "name=\"salauddin\"\n",
        "age=21\n",
        "print(\"name = \",name,\"\\nage = \",age)'''"
      ],
      "metadata": {
        "id": "TunuEMeu-QwD"
      },
      "execution_count": null,
      "outputs": []
    },
    {
      "cell_type": "code",
      "source": [
        "# 3. Write code to print all the pre-defined keywords in Python using the keyword library\n",
        "'''import keyword\n",
        "print(keyword.kwlist)'''"
      ],
      "metadata": {
        "id": "vW3KY_o1-zw-"
      },
      "execution_count": null,
      "outputs": []
    },
    {
      "cell_type": "code",
      "source": [
        "# 4.  Write a program that checks if a given word is a Python keyword\n",
        "'''import keyword\n",
        "user_input=input(\"Enter the key\")\n",
        "if user_input in keyword.kwlist :\n",
        "  print(\"yes , this is python keyword\")\n",
        "else:\n",
        "  print(\"No , this is not python keyword\")'''\n"
      ],
      "metadata": {
        "id": "WySOQPvp_br_"
      },
      "execution_count": null,
      "outputs": []
    },
    {
      "cell_type": "code",
      "source": [
        "# 5.  Create a list and tuple in Python, and demonstrate how attempting to change an element works differently for each.\n",
        "   # list\n",
        "'''\n",
        "s_list=[\"Apple\",\"orange\",\"Banana\",4,6.5]\n",
        "print(s_list) # o/p= ['Apple', 'orange', 'Banana', 4, 6.5]\n",
        "\n",
        "s_list[0] = \"Grapes\"\n",
        "print(s_list) # o/p= ['Grapes', 'orange', 'Banana', 4, 6.5]\n",
        "\n",
        "  # tuple\n",
        "t_tuple =(1,\"ajay\",5.5,True,False,3+6j,)\n",
        "print(t_tuple) # o/p = (1, 'ajay', 5.5, True, False, (3+6j))\n",
        "\n",
        "t_tuple[0]=\"shayam\"\n",
        "print(t_tuple) # o/p = error , ('tuple' object does not support item assignment )\n",
        "'''"
      ],
      "metadata": {
        "id": "GmMydYrG_ycW"
      },
      "execution_count": null,
      "outputs": []
    },
    {
      "cell_type": "code",
      "source": [
        "# 6. Write a function to demonstrate the behavior of mutable and immutable arguments.\n",
        "   # mutable\n",
        "'''\n",
        "a=[\"egg\",\"sugar\",\"oil\",5,6,True]\n",
        "a.append(\"milk\")  # this is used for adding element\n",
        "print(a)  # o/p = ['egg', 'sugar', 'oil', 5, 6, True, 'milk']\n",
        "\n",
        "a[0]=\"hen_eggs\"\n",
        "print(a)  # o/p = ['hen_eggs', 'sugar', 'oil', 5, 6, True, 'milk']\n",
        "\n",
        "  #  immutable\n",
        "\n",
        "a=(\"egg\",\"sugar\",\"oil\",5,6,True)\n",
        "a.append(\"milk\") # 'tuple' object has no attribute 'append'\n",
        "\n",
        "a[0]=\"hen_egg\"\n",
        "o/p = 'tuple' object does not support item assignment\n",
        "'''\n"
      ],
      "metadata": {
        "id": "B6yew9Qj_yri"
      },
      "execution_count": null,
      "outputs": []
    },
    {
      "cell_type": "code",
      "source": [
        "# 7.  Write a program that performs basic arithmetic operations on two user-input numbers\n",
        "'''\n",
        "user_inp=int(input(\"Enter first number : \"))\n",
        "user_inp1=int(input(\"Enter second number : \"))\n",
        "\n",
        "print(\"addition of two number : \",user_inp+user_inp1)\n",
        "print(\"subraction of two number : \",user_inp-user_inp1)\n",
        "print(\"multiplication of two number : \",user_inp*user_inp1)\n",
        "print(\"division of two number : \",user_inp/user_inp1)'''"
      ],
      "metadata": {
        "id": "D1A72rrq_y3-",
        "collapsed": true
      },
      "execution_count": null,
      "outputs": []
    },
    {
      "cell_type": "code",
      "source": [
        "# 8.  Write a program to demonstrate the use of logical operators\n",
        "'''\n",
        "maths=int(input(\"Enter the marks of maths : \"))\n",
        "bio=int(input(\"Enter the marks of bio : \"))\n",
        "\n",
        "if maths> 90 and bio> 90: # if both are true than execute\n",
        "  print (\"you are topper in both\")\n",
        "\n",
        "elif maths> 90 or bio> 90:  # if any one is true than execute\n",
        "  print (\"you are topper in one subject\")\n",
        "\n",
        "elif not maths> 90 or bio> 90: # if both are not true\n",
        "  print(\"you are not considred as topper in both\")'''\n"
      ],
      "metadata": {
        "id": "2RT53S-Tqt4g"
      },
      "execution_count": null,
      "outputs": []
    },
    {
      "cell_type": "code",
      "source": [
        "# 9. Write a Python program to convert user input from string to integer, float, and boolean types\n",
        "  #  string to integer\n",
        "'''\n",
        "user_input=int(input(\"Enter the value\"))\n",
        "print(user_input)\n",
        "type(user_input)\n",
        "\n",
        "  #  string to float\n",
        "user_input=float(input(\"Enter the value\"))\n",
        "print(user_input)\n",
        "type(user_input)\n",
        "\n",
        "  #  string to boolean\n",
        "user_input=bool(input(\"Enter the value\"))\n",
        "print(user_input)\n",
        "type(user_input)\n",
        "'''"
      ],
      "metadata": {
        "id": "r9g1-5bRquNG"
      },
      "execution_count": null,
      "outputs": []
    },
    {
      "cell_type": "code",
      "source": [
        "# 10.  Write code to demonstrate type casting with list elements.\n",
        "'''\n",
        "a=[\"apple \",\"mango\",3.5,6,True]\n",
        "a[2]+a[3]\n",
        "# o/p = 9.5   (int value is change into float value that is called type casting , changing one data type to other)\n",
        "'''"
      ],
      "metadata": {
        "id": "NHE5XDooquc2",
        "colab": {
          "base_uri": "https://localhost:8080/"
        },
        "outputId": "0fd3ce22-4075-4e36-afb1-fd7c3369b3ea"
      },
      "execution_count": 14,
      "outputs": [
        {
          "output_type": "execute_result",
          "data": {
            "text/plain": [
              "9.5"
            ]
          },
          "metadata": {},
          "execution_count": 14
        }
      ]
    },
    {
      "cell_type": "code",
      "source": [
        "# 11. Write a program that checks if a number is positive, negative, or zero\n",
        "'''\n",
        "number=int(input(\"Enter the number : \"))\n",
        "if number > 0:\n",
        "  print(\"Number is positive\")\n",
        "elif number < 0:\n",
        "    print(\"Number is negative\")\n",
        "else:\n",
        "  print(\"Zero\")'''"
      ],
      "metadata": {
        "id": "0275giiLqupA",
        "collapsed": true
      },
      "execution_count": null,
      "outputs": []
    },
    {
      "cell_type": "code",
      "source": [
        "# 12.  Write a for loop to print numbers from 1 to 10.\n",
        "'''\n",
        "for i in range(1,11):\n",
        "  print(i)\n",
        "'''"
      ],
      "metadata": {
        "id": "cVPn24r6qu3g",
        "collapsed": true
      },
      "execution_count": null,
      "outputs": []
    },
    {
      "cell_type": "code",
      "source": [
        "# 13  Write a Python program to find the sum of all even numbers between 1 and 50.\n",
        "'''\n",
        "sum=0\n",
        "for i in range(1,51):\n",
        "  if i%2==0:\n",
        "    print(i)\n",
        "    sum=sum+i\n",
        "print(sum)\n",
        "'''"
      ],
      "metadata": {
        "id": "QZXpqnziqvE0",
        "collapsed": true
      },
      "execution_count": null,
      "outputs": []
    },
    {
      "cell_type": "code",
      "source": [
        "# 14 Write a program to reverse a string using a while loop\n",
        "'''\n",
        "user_input=input(\"enter the string\")\n",
        "reversed_text=\"\"\n",
        "index=len(user_input)-1\n",
        "while index >=0:\n",
        "\n",
        "  reversed_text+=user_input[index]\n",
        "  index-=1\n",
        "print(\"reverse string\",reversed_text)\n",
        "'''"
      ],
      "metadata": {
        "id": "eqoGtNlAqvR4"
      },
      "execution_count": null,
      "outputs": []
    },
    {
      "cell_type": "code",
      "source": [
        "# 15. Write a Python program to calculate the factorial of a number provided by the user using a while loop\n",
        "'''\n",
        "inp=int(input(\"enter factorial number : \"))\n",
        "n=1\n",
        "factorial=1\n",
        "while n<inp:\n",
        "  print(n)\n",
        "  n+=1\n",
        "  factorial *= n\n",
        "print(factorial)\n",
        "'''"
      ],
      "metadata": {
        "id": "OqBz0UKUqwql"
      },
      "execution_count": null,
      "outputs": []
    }
  ]
}